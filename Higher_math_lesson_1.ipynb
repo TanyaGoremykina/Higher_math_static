{
 "cells": [
  {
   "cell_type": "code",
   "execution_count": 2,
   "metadata": {},
   "outputs": [],
   "source": [
    "## Задача 1.\n",
    "## Из колоды в 52 карты извлекаются случайным образом 4 карты.\n",
    "## a) Найти вероятность того, что все карты – крести. \n",
    "from math import factorial\n"
   ]
  },
  {
   "cell_type": "code",
   "execution_count": 3,
   "metadata": {},
   "outputs": [
    {
     "name": "stdout",
     "output_type": "stream",
     "text": [
      "715\n"
     ]
    }
   ],
   "source": [
    "## в колоде из 52 карт масть крести - 13 \n",
    "## количество сочетаний 4 карт все крести\n",
    "def combinations(n, k):\n",
    "    return int(factorial(n) / (factorial(k) * factorial(n-k)))\n",
    "m = combinations (13, 4)\n",
    "print (m)"
   ]
  },
  {
   "cell_type": "code",
   "execution_count": 4,
   "metadata": {},
   "outputs": [
    {
     "name": "stdout",
     "output_type": "stream",
     "text": [
      "270725\n"
     ]
    }
   ],
   "source": [
    "## всего комбинаций из 4 карт в колоде 52 карт\n",
    "def combinations(n, k):\n",
    "    return int(factorial(n) / (factorial(k) * factorial(n-k)))\n",
    "n = combinations (52,4)\n",
    "print (n)"
   ]
  },
  {
   "cell_type": "code",
   "execution_count": 5,
   "metadata": {},
   "outputs": [
    {
     "name": "stdout",
     "output_type": "stream",
     "text": [
      "0.0026410564225690276\n"
     ]
    }
   ],
   "source": [
    "## вероятность того, что все карты крести, в процентах\n",
    "P = (m / n)\n",
    "print (P)"
   ]
  },
  {
   "cell_type": "code",
   "execution_count": 6,
   "metadata": {},
   "outputs": [
    {
     "name": "stdout",
     "output_type": "stream",
     "text": [
      "194580\n",
      "270725\n",
      "76145\n",
      "0.2812632745405855\n"
     ]
    }
   ],
   "source": [
    "## б) Найти вероятность, что среди 4-х карт окажется хотя бы один туз.\n",
    "## без 4 тузов в колоде 48 карт\n",
    "def combinations(n, k):\n",
    "    return int(factorial(n) / (factorial(k) * factorial(n-k)))\n",
    "m = combinations (48, 4)\n",
    "print (m)\n",
    "## всего комбинаций из 4 карт в колоде 52 карт\n",
    "def combinations(n, k):\n",
    "    return int(factorial(n) / (factorial(k) * factorial(n-k)))\n",
    "n = combinations (52,4)\n",
    "print (n)\n",
    "## разница между всего комбинаций и комбинаций без тузов\n",
    "o = n - m\n",
    "print (o)\n",
    "## вероятность, что среди 4-х карт окажется хотя бы один туз\n",
    "Po = o / n\n",
    "print (Po)"
   ]
  },
  {
   "cell_type": "code",
   "execution_count": 7,
   "metadata": {},
   "outputs": [
    {
     "name": "stdout",
     "output_type": "stream",
     "text": [
      "120\n",
      "1\n",
      "0.008333333333333333\n"
     ]
    }
   ],
   "source": [
    "## Задача 2. На входной двери подъезда установлен кодовый замок, содержащий десять кнопок с цифрами от 0 до 9.\n",
    "## Код содержит три цифры, которые нужно нажать одновременно.\n",
    "## Какова вероятность того, что человек, не знающий код, откроет дверь с первой попытки?\n",
    "def combinations(n, k):\n",
    "    return int(factorial(n) / (factorial(k) * factorial(n-k)))\n",
    "n= combinations (10,3)\n",
    "print (n)\n",
    "## общее число исходов (=1)\n",
    "def combinations(n, k):\n",
    "    return int(factorial(n) / (factorial(k) * factorial(n-k)))\n",
    "c = combinations (3,3)\n",
    "print (c)\n",
    "P = c / n\n",
    "print (P)\n"
   ]
  },
  {
   "cell_type": "code",
   "execution_count": 10,
   "metadata": {},
   "outputs": [
    {
     "name": "stdout",
     "output_type": "stream",
     "text": [
      "84\n",
      "455\n",
      "0.18461538461538463\n"
     ]
    }
   ],
   "source": [
    "##Задача 3. В ящике имеется 15 деталей, из которых 9 окрашены. Рабочий случайным образом извлекает 3 детали. Какова вероятность того,\n",
    "## что все извлеченные детали окрашены?\n",
    "## 3 белых из 9 белых\n",
    "def combinations(n, k):\n",
    "    return int(factorial(n) / (factorial(k) * factorial(n-k)))\n",
    "m= combinations (9,3)\n",
    "print (m)\n",
    "## всего сочетаний по 3 из 15\n",
    "def combinations(n, k):\n",
    "    return int(factorial(n) / (factorial(k) * factorial(n-k)))\n",
    "n= combinations (15,3)\n",
    "print (n)\n",
    "## вероятность\n",
    "P = m / n\n",
    "print (P)"
   ]
  },
  {
   "cell_type": "code",
   "execution_count": 11,
   "metadata": {},
   "outputs": [
    {
     "name": "stdout",
     "output_type": "stream",
     "text": [
      "1\n",
      "4950\n",
      "0.00020202020202020202\n"
     ]
    }
   ],
   "source": [
    "## Задача 4.\n",
    "## В лотерее 100 билетов. Из них 2 выигрышных. Какова вероятность того, что 2 приобретенных билета окажутся выигрышными?\n",
    "## комбинаций 2 из 2\n",
    "def combinations(n, k):\n",
    "    return int(factorial(n) / (factorial(k) * factorial(n-k)))\n",
    "m= combinations (2,2)\n",
    "print (m)\n",
    "## всего сочетаний 2 из 100\n",
    "def combinations(n, k):\n",
    "    return int(factorial(n) / (factorial(k) * factorial(n-k)))\n",
    "n= combinations (100,2)\n",
    "print (n)\n",
    "## вероятность\n",
    "P = m / n\n",
    "print (P)"
   ]
  },
  {
   "cell_type": "code",
   "execution_count": null,
   "metadata": {},
   "outputs": [],
   "source": []
  }
 ],
 "metadata": {
  "kernelspec": {
   "display_name": "Python 3",
   "language": "python",
   "name": "python3"
  },
  "language_info": {
   "codemirror_mode": {
    "name": "ipython",
    "version": 3
   },
   "file_extension": ".py",
   "mimetype": "text/x-python",
   "name": "python",
   "nbconvert_exporter": "python",
   "pygments_lexer": "ipython3",
   "version": "3.8.5"
  }
 },
 "nbformat": 4,
 "nbformat_minor": 4
}
