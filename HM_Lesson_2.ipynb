{
 "cells": [
  {
   "cell_type": "code",
   "execution_count": 34,
   "metadata": {},
   "outputs": [
    {
     "name": "stdout",
     "output_type": "stream",
     "text": [
      "0.048061793700746556\n"
     ]
    }
   ],
   "source": [
    "## Задача 1.\n",
    "## Вероятность того, что стрелок попадет в мишень, выстрелив один раз, равна 0.8.\n",
    "## Стрелок выстрелил 100 раз. Найдите вероятность того, что стрелок попадет в цель ровно 85 раз.\n",
    "## формула Бернулли\n",
    "## Исходя из условий: число наступления событий = 85 (к), количество испытаний = 100 (n), вероятность события = 0,8 (p)\n",
    "## q = (1-0,8) = 0,2; n-k = 100-85 = 15\n",
    "from math import factorial\n",
    "def combinations(n, k):\n",
    "    return int(factorial(n) / (factorial(k) * factorial(n-k)))\n",
    "P = combinations (100, 85) * (0.8 ** 85) * (0.2 ** 15)\n",
    "print (P)"
   ]
  },
  {
   "cell_type": "code",
   "execution_count": 44,
   "metadata": {},
   "outputs": [
    {
     "name": "stdout",
     "output_type": "stream",
     "text": [
      "0.1353352832366127\n"
     ]
    }
   ],
   "source": [
    "## Задача 2.\n",
    "## Вероятность того, что лампочка перегорит в течение первого дня эксплуатации, равна 0.0004. \n",
    "## В жилом комплексе после ремонта в один день включили 5000 новых лампочек. \n",
    "## Какова вероятность, что ни одна из них не перегорит в первый день? \n",
    "## распределение Пуассона\n",
    "## Исходя из условий: количество испытаний = 5 000 (n), вероятность события = 0.0004 (p),число наступления событий = 0 (m)\n",
    "import numpy as np\n",
    "n = 5000\n",
    "m = 0\n",
    "p = 0.0004\n",
    "lambda_= n * p\n",
    "P = (lambda_**m / np.math.factorial(m)) * np.exp(-lambda_)\n",
    "print(P)"
   ]
  },
  {
   "cell_type": "code",
   "execution_count": 45,
   "metadata": {},
   "outputs": [
    {
     "name": "stdout",
     "output_type": "stream",
     "text": [
      "0.2706705664732254\n"
     ]
    }
   ],
   "source": [
    "## Какова вероятность, что перегорят ровно две?\n",
    "n = 5000\n",
    "m = 2\n",
    "p = 0.0004\n",
    "lambda_= n * p\n",
    "P = (lambda_**m / np.math.factorial(m)) * np.exp(-lambda_)\n",
    "print(P)"
   ]
  },
  {
   "cell_type": "code",
   "execution_count": 40,
   "metadata": {},
   "outputs": [
    {
     "name": "stdout",
     "output_type": "stream",
     "text": [
      "0.06281178035144776\n"
     ]
    }
   ],
   "source": [
    "## Задача 3.\n",
    "## Монету подбросили 144 раза. Какова вероятность, что орел выпадет ровно 70 раз?\n",
    "## формула Бернулли\n",
    "## Исходя из условий: число наступления событий = 70 (к), количество испытаний = 144 (n), вероятность события = 0,5 (p) \n",
    "## q = (1-0,5) = 0,5; n-k = (144-70)= 74\n",
    "def combinations(n, k):\n",
    "    return int(factorial(n) / (factorial(k) * factorial(n-k)))\n",
    "P = combinations (144, 70) * (0.5 ** 70) * (0.5 ** 74)\n",
    "print (P)"
   ]
  },
  {
   "cell_type": "code",
   "execution_count": 46,
   "metadata": {},
   "outputs": [
    {
     "name": "stdout",
     "output_type": "stream",
     "text": [
      "0.3054545454545455\n"
     ]
    }
   ],
   "source": [
    "## Задача 4.\n",
    "## В первом ящике находится 10 мячей, из которых 7 - белые. Во втором ящике - 11 мячей, из которых 9 белых.\n",
    "## Из каждого ящика вытаскивают случайным образом по два мяча. Какова вероятность того, что все мячи белые? \n",
    "## Через сочетания\n",
    "def combinations(n, k):\n",
    "    return int(factorial(n) / (factorial(k) * factorial(n-k)))\n",
    "P1 = combinations (7, 2) / combinations (10, 2)\n",
    "P2 = combinations (9, 2) / combinations (11, 2)\n",
    "P = P1 * P2\n",
    "print (P)"
   ]
  },
  {
   "cell_type": "code",
   "execution_count": 49,
   "metadata": {},
   "outputs": [
    {
     "name": "stdout",
     "output_type": "stream",
     "text": [
      "0.20484848484848486\n"
     ]
    }
   ],
   "source": [
    "## Какова вероятность того, что ровно два мяча белые? \n",
    "def combinations(n, k):\n",
    "    return int(factorial(n) / (factorial(k) * factorial(n-k)))\n",
    "P1 = combinations (7, 2) / combinations (10, 2) * combinations (2, 2) / combinations (11, 2)\n",
    "P2 = combinations (3, 2) / combinations (10, 2) * combinations (9, 2) / combinations (11, 2)\n",
    "P3 = (combinations (7, 1) * combinations (3, 1) / combinations (10, 2)) * (combinations (9, 1) * combinations (2, 1) / combinations (11, 2))\n",
    "P = P1 + P2 + P3\n",
    "print (P)"
   ]
  },
  {
   "cell_type": "code",
   "execution_count": 50,
   "metadata": {},
   "outputs": [
    {
     "name": "stdout",
     "output_type": "stream",
     "text": [
      "0.9987878787878788\n"
     ]
    }
   ],
   "source": [
    "## Какова вероятность того, что хотя бы один мяч белый?\n",
    "## вероятность черных\n",
    "def combinations(n, k):\n",
    "    return int(factorial(n) / (factorial(k) * factorial(n-k)))\n",
    "P1 = combinations (3, 2) / combinations (10, 2) * combinations (2, 2) / combinations (11, 2)\n",
    "P = 1 - P1\n",
    "print (P)"
   ]
  },
  {
   "cell_type": "code",
   "execution_count": null,
   "metadata": {},
   "outputs": [],
   "source": []
  }
 ],
 "metadata": {
  "kernelspec": {
   "display_name": "Python 3",
   "language": "python",
   "name": "python3"
  },
  "language_info": {
   "codemirror_mode": {
    "name": "ipython",
    "version": 3
   },
   "file_extension": ".py",
   "mimetype": "text/x-python",
   "name": "python",
   "nbconvert_exporter": "python",
   "pygments_lexer": "ipython3",
   "version": "3.8.5"
  }
 },
 "nbformat": 4,
 "nbformat_minor": 4
}
